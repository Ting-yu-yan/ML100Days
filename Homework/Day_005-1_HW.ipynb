{
 "cells": [
  {
   "cell_type": "markdown",
   "metadata": {},
   "source": [
    "# [作業目標]\n",
    "- 利用範例的創建方式, 創建一組資料, 並練習如何取出最大值"
   ]
  },
  {
   "cell_type": "markdown",
   "metadata": {},
   "source": [
    "# [作業重點]\n",
    "- 練習創立 DataFrame (In[2])\n",
    "- 如何取出口數最多的國家 (In[3], Out[3])"
   ]
  },
  {
   "cell_type": "markdown",
   "metadata": {},
   "source": [
    "## 練習時間\n",
    "在小量的資料上，我們用眼睛就可以看得出來程式碼是否有跑出我們理想中的結果\n",
    "\n",
    "請嘗試想像一個你需要的資料結構 (裡面的值可以是隨機的)，然後用上述的方法把它變成 pandas DataFrame\n",
    "\n",
    "#### Ex: 想像一個 dataframe 有兩個欄位，一個是國家，一個是人口，求人口數最多的國家\n",
    "\n",
    "### Hints: [隨機產生數值](https://blog.csdn.net/christianashannon/article/details/78867204)"
   ]
  },
  {
   "cell_type": "code",
   "execution_count": 136,
   "metadata": {},
   "outputs": [],
   "source": [
    "import pandas as pd\n",
    "import numpy as np\n",
    "import random as random"
   ]
  },
  {
   "cell_type": "markdown",
   "metadata": {},
   "source": [
    "## First way to construct Dataframe"
   ]
  },
  {
   "cell_type": "markdown",
   "metadata": {},
   "source": [
    "第一種去建構 Dataframe 的方式是直接建構一個 Dict 物件，並且直接透過 pd.Dataframe() 將 Dict 轉成 Dataframe\n",
    "，而該 Dict 中， keys 即為 column names 而 values 為 list 物件。"
   ]
  },
  {
   "cell_type": "code",
   "execution_count": 147,
   "metadata": {},
   "outputs": [],
   "source": [
    "np.random.seed(20210726)\n",
    "data = {'國家':['馬來西亞','泰國','台灣','日本','卡加不列島'] ,\n",
    "        '人口':list(np.random.randint(low=20000,high=200000,size=5))}\n",
    "data = pd.DataFrame(data)"
   ]
  },
  {
   "cell_type": "code",
   "execution_count": 167,
   "metadata": {
    "scrolled": true
   },
   "outputs": [
    {
     "data": {
      "text/plain": [
       "array([['馬來西亞', 163928],\n",
       "       ['泰國', 150526],\n",
       "       ['台灣', 106815],\n",
       "       ['日本', 87381],\n",
       "       ['卡加不列島', 157636]], dtype=object)"
      ]
     },
     "execution_count": 167,
     "metadata": {},
     "output_type": "execute_result"
    }
   ],
   "source": [
    "data.values # 取得 array form"
   ]
  },
  {
   "cell_type": "markdown",
   "metadata": {},
   "source": [
    "## Second way to construct Dataframe"
   ]
  },
  {
   "cell_type": "markdown",
   "metadata": {},
   "source": [
    "第二種創建 Dataframe 的方式比較特別，我們會需要創建許多 list ，每一個 list 分別代表一個 column， 接著在創建兩個 list 分別代表 column name 跟 column value 最後再使用 zip function 將兩個 list combine 在一起。"
   ]
  },
  {
   "cell_type": "markdown",
   "metadata": {},
   "source": [
    "Zip function 最大的價值在於我們能夠將兩個以上的 List combine 在一起，因此我們可以同時疊代不同的 List，而 unzip 的方式比較特別，我們採用 zip(*zip_object) 的方式來 unzip。 "
   ]
  },
  {
   "cell_type": "code",
   "execution_count": 166,
   "metadata": {},
   "outputs": [
    {
     "data": {
      "text/html": [
       "<div>\n",
       "<style scoped>\n",
       "    .dataframe tbody tr th:only-of-type {\n",
       "        vertical-align: middle;\n",
       "    }\n",
       "\n",
       "    .dataframe tbody tr th {\n",
       "        vertical-align: top;\n",
       "    }\n",
       "\n",
       "    .dataframe thead th {\n",
       "        text-align: right;\n",
       "    }\n",
       "</style>\n",
       "<table border=\"1\" class=\"dataframe\">\n",
       "  <thead>\n",
       "    <tr style=\"text-align: right;\">\n",
       "      <th></th>\n",
       "      <th>國家</th>\n",
       "      <th>人口</th>\n",
       "    </tr>\n",
       "  </thead>\n",
       "  <tbody>\n",
       "    <tr>\n",
       "      <th>0</th>\n",
       "      <td>馬來西亞</td>\n",
       "      <td>163928</td>\n",
       "    </tr>\n",
       "    <tr>\n",
       "      <th>1</th>\n",
       "      <td>泰國</td>\n",
       "      <td>150526</td>\n",
       "    </tr>\n",
       "    <tr>\n",
       "      <th>2</th>\n",
       "      <td>台灣</td>\n",
       "      <td>106815</td>\n",
       "    </tr>\n",
       "    <tr>\n",
       "      <th>3</th>\n",
       "      <td>日本</td>\n",
       "      <td>87381</td>\n",
       "    </tr>\n",
       "    <tr>\n",
       "      <th>4</th>\n",
       "      <td>卡加不列島</td>\n",
       "      <td>157636</td>\n",
       "    </tr>\n",
       "  </tbody>\n",
       "</table>\n",
       "</div>"
      ],
      "text/plain": [
       "      國家      人口\n",
       "0   馬來西亞  163928\n",
       "1     泰國  150526\n",
       "2     台灣  106815\n",
       "3     日本   87381\n",
       "4  卡加不列島  157636"
      ]
     },
     "execution_count": 166,
     "metadata": {},
     "output_type": "execute_result"
    }
   ],
   "source": [
    "countries = ['馬來西亞','泰國','台灣','日本','卡加不列島']\n",
    "population = list(data['人口'])\n",
    "\n",
    "colname = ['國家','人口']\n",
    "colvalue = [countries,population]\n",
    "\n",
    "data2 = pd.DataFrame(dict(zip(colname,colvalue)))\n",
    "data2"
   ]
  },
  {
   "cell_type": "code",
   "execution_count": 205,
   "metadata": {},
   "outputs": [
    {
     "name": "stdout",
     "output_type": "stream",
     "text": [
      "馬來西亞\n",
      "馬來西亞\n"
     ]
    }
   ],
   "source": [
    "# 1. 找出人口數最多的國家: 利用 numpy 中的方法將每個 column 中，最大的值回傳 (.argmax() )\n",
    "\n",
    "index_max = data.values[:,1].argmax()\n",
    "print(data.values[:,0][index_max])\n",
    "\n",
    "# 2. 利用 list.index() function 就可以回傳給定數值在list中的位置\n",
    "\n",
    "index_max_list_index = list(data.values[:,1]).index(max(data.values[:,1]))\n",
    "print(data.values[:,0][index_max_list_index])"
   ]
  },
  {
   "cell_type": "code",
   "execution_count": 224,
   "metadata": {},
   "outputs": [
    {
     "name": "stdout",
     "output_type": "stream",
     "text": [
      "163928 0\n",
      "馬來西亞\n"
     ]
    }
   ],
   "source": [
    "# 3. 利用 zip 結合 for loop 來找出 list 中最大值以及其 index\n",
    "population = list(data.values[:,1])\n",
    "index = list(range(len(population)))\n",
    "max_value = 0\n",
    "max_index = 0\n",
    "for x,y in zip(population,index):\n",
    "    if x > max_value:\n",
    "        max_value = x\n",
    "        max_index = y\n",
    "print(max_value,max_index)    \n",
    "print(data.values[:,0][max_index])"
   ]
  }
 ],
 "metadata": {
  "kernelspec": {
   "display_name": "Python 3",
   "language": "python",
   "name": "python3"
  },
  "language_info": {
   "codemirror_mode": {
    "name": "ipython",
    "version": 3
   },
   "file_extension": ".py",
   "mimetype": "text/x-python",
   "name": "python",
   "nbconvert_exporter": "python",
   "pygments_lexer": "ipython3",
   "version": "3.6.12"
  }
 },
 "nbformat": 4,
 "nbformat_minor": 2
}
